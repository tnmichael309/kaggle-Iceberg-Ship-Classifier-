{
 "cells": [
  {
   "cell_type": "code",
   "execution_count": 1,
   "metadata": {
    "collapsed": true
   },
   "outputs": [],
   "source": [
    "import pandas as pd\n",
    "import numpy as np"
   ]
  },
  {
   "cell_type": "code",
   "execution_count": 2,
   "metadata": {
    "collapsed": true
   },
   "outputs": [],
   "source": [
    "files = [\n",
    "    'final average/1229_blend_minimax.csv',\n",
    "    'final average/1231_blend_minimax.csv',\n",
    "    'final average/1237_blend_minimax.csv',\n",
    "    'final average/1239_blend_minimax_median_se_dense.csv',\n",
    "    'final average/1242_blend_minmax_best_8th_best.csv',\n",
    "    'final average/1258_blend_minimax_median_corr_less_09.csv',\n",
    "    'final average/1260_blend_minimax.csv',\n",
    "]\n",
    "file_num = len(files)"
   ]
  },
  {
   "cell_type": "code",
   "execution_count": 3,
   "metadata": {},
   "outputs": [
    {
     "name": "stdout",
     "output_type": "stream",
     "text": [
      "3425\n"
     ]
    }
   ],
   "source": [
    "test = pd.read_json('Data/test.json', dtype={'inc_angle': str})\n",
    "read_ids = pd.read_csv('real ids.csv')['id'].values\n",
    "print(len(read_ids))"
   ]
  },
  {
   "cell_type": "code",
   "execution_count": 7,
   "metadata": {},
   "outputs": [],
   "source": [
    "th=6\n",
    "leak_df = pd.read_csv('analysis submissions/data_leakage_th_{}.csv'.format(th))\n",
    "leak_angles = leak_df.inc_angle.values\n",
    "leak_ice = leak_df.is_iceberg.values"
   ]
  },
  {
   "cell_type": "code",
   "execution_count": 10,
   "metadata": {
    "collapsed": true
   },
   "outputs": [],
   "source": [
    "def update_patch(f):\n",
    "    df = pd.read_csv(f)\n",
    "    answers = df['is_iceberg'].values\n",
    "\n",
    "    for i in range(test.shape[0]):\n",
    "        if test.id.values[i] in read_ids and test.inc_angle.values[i] in leak_angles:\n",
    "\n",
    "            ix, = np.where( leak_angles==test.inc_angle.values[i] )\n",
    "            new_ans = leak_ice[ix]\n",
    "            new_ans = max(0.0001, min(new_ans, 0.9999))\n",
    "\n",
    "            answers[i] = new_ans\n",
    "            \n",
    "\n",
    "    df['is_iceberg'] = answers\n",
    "    df.to_csv(f.replace('.csv', '_th{}.csv'.format(th)), index=False, float_format=\"%.15f\")"
   ]
  },
  {
   "cell_type": "code",
   "execution_count": 11,
   "metadata": {},
   "outputs": [],
   "source": [
    "for f in files:\n",
    "    update_patch(f)"
   ]
  }
 ],
 "metadata": {
  "kernelspec": {
   "display_name": "Python 3",
   "language": "python",
   "name": "python3"
  },
  "language_info": {
   "codemirror_mode": {
    "name": "ipython",
    "version": 3
   },
   "file_extension": ".py",
   "mimetype": "text/x-python",
   "name": "python",
   "nbconvert_exporter": "python",
   "pygments_lexer": "ipython3",
   "version": "3.6.2"
  }
 },
 "nbformat": 4,
 "nbformat_minor": 2
}
