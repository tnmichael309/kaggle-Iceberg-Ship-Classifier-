{
 "cells": [
  {
   "cell_type": "code",
   "execution_count": 1,
   "metadata": {
    "collapsed": true
   },
   "outputs": [],
   "source": [
    "import pandas as pd\n",
    "import numpy as np"
   ]
  },
  {
   "cell_type": "code",
   "execution_count": 2,
   "metadata": {
    "collapsed": true
   },
   "outputs": [],
   "source": [
    "correct_files = [\n",
    "                    '../Data/submission_nn_resnet_polar_soft_pl_n_valid_oof_augment_origin.csv',\n",
    "                    '../Data/submission_nn_resnet_polar_oof_augment_origin.csv',\n",
    "                    '../Data/submission_09_soft_pl_n_valid_resnet_origin_oof_augment_origin.csv'\n",
    "                ]\n",
    "cutoff_hi=.7\n",
    "cutoff_lo=.3"
   ]
  },
  {
   "cell_type": "code",
   "execution_count": 12,
   "metadata": {},
   "outputs": [],
   "source": [
    "repeat_count=40\n",
    "fold_num=5\n",
    "def correct(file, cutoff_hi=.1, cutoff_lo=.9):\n",
    "    print('processing: ', file)\n",
    "    df = pd.read_csv(file)\n",
    "    \n",
    "    # the first two columns are 'id' and 'is_iceberg'\n",
    "    df['is_iceberg_max'] = df.iloc[:, 2:repeat_count*fold_num+2].max(axis=1)\n",
    "    df['is_iceberg_min'] = df.iloc[:, 2:repeat_count*fold_num+2].min(axis=1)\n",
    "    df['is_iceberg_mean'] = df.iloc[:, 2:repeat_count*fold_num+2].mean(axis=1)\n",
    "    df['is_iceberg_median'] = df.iloc[:, 2:repeat_count*fold_num+2].median(axis=1)\n",
    "    \n",
    "    df['is_iceberg'] = df['is_iceberg_mean']\n",
    "    df[['id', 'is_iceberg']].to_csv(file.replace('origin', 'avg'), index=False, float_format='%.15f')\n",
    "    \n",
    "    df['is_iceberg'] = np.where(np.all(df.iloc[:,2:repeat_count*fold_num+2] > cutoff_lo, axis=1), \n",
    "                                    df['is_iceberg_max'], # all > lo\n",
    "                                    np.where(np.all(df.iloc[:,2:repeat_count*fold_num+2] < cutoff_hi, axis=1),\n",
    "                                             df['is_iceberg_min'], # all < hi \n",
    "                                             df['is_iceberg_median'] # use the best\n",
    "                                            )\n",
    "                                   )\n",
    "    df[['id', 'is_iceberg']].to_csv(file.replace('origin', 'minmax'), index=False, float_format='%.15f')\n",
    "    df.to_csv(file, index=False, float_format=\"%.15f\")"
   ]
  },
  {
   "cell_type": "code",
   "execution_count": 13,
   "metadata": {},
   "outputs": [
    {
     "name": "stdout",
     "output_type": "stream",
     "text": [
      "processing:  ../Data/submission_nn_resnet_polar_soft_pl_n_valid_oof_augment_origin.csv\n",
      "processing:  ../Data/submission_nn_resnet_polar_oof_augment_origin.csv\n",
      "processing:  ../Data/submission_09_soft_pl_n_valid_resnet_origin_oof_augment_origin.csv\n"
     ]
    }
   ],
   "source": [
    "for f in correct_files:\n",
    "    correct(f, cutoff_hi, cutoff_lo)"
   ]
  }
 ],
 "metadata": {
  "kernelspec": {
   "display_name": "Python 3",
   "language": "python",
   "name": "python3"
  },
  "language_info": {
   "codemirror_mode": {
    "name": "ipython",
    "version": 3
   },
   "file_extension": ".py",
   "mimetype": "text/x-python",
   "name": "python",
   "nbconvert_exporter": "python",
   "pygments_lexer": "ipython3",
   "version": "3.6.2"
  }
 },
 "nbformat": 4,
 "nbformat_minor": 2
}
