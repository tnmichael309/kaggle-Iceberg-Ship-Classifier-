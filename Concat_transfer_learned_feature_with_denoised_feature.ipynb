{
 "cells": [
  {
   "cell_type": "code",
   "execution_count": 1,
   "metadata": {
    "collapsed": true
   },
   "outputs": [],
   "source": [
    "import pandas as pd"
   ]
  },
  {
   "cell_type": "code",
   "execution_count": 2,
   "metadata": {},
   "outputs": [],
   "source": [
    "train = pd.read_json('Data/denoised_processed_train.json')\n",
    "transfer_train = pd.read_csv('Data/transfer_learning_from_ResNet5_train.csv')"
   ]
  },
  {
   "cell_type": "code",
   "execution_count": 3,
   "metadata": {},
   "outputs": [
    {
     "name": "stdout",
     "output_type": "stream",
     "text": [
      "(1604, 3) (1604, 1001)\n"
     ]
    }
   ],
   "source": [
    "print(train.shape, transfer_train.shape)"
   ]
  },
  {
   "cell_type": "code",
   "execution_count": 4,
   "metadata": {},
   "outputs": [
    {
     "name": "stdout",
     "output_type": "stream",
     "text": [
      "Index(['band_mixed', 'inc_angle', 'is_iceberg'], dtype='object')\n"
     ]
    }
   ],
   "source": [
    "print(train.columns)"
   ]
  },
  {
   "cell_type": "code",
   "execution_count": 5,
   "metadata": {},
   "outputs": [],
   "source": [
    "combined_train = pd.concat([transfer_train.drop(['is_iceberg'],axis=1), train], axis=1)"
   ]
  },
  {
   "cell_type": "code",
   "execution_count": 6,
   "metadata": {},
   "outputs": [
    {
     "name": "stdout",
     "output_type": "stream",
     "text": [
      "(1604, 1003)\n"
     ]
    },
    {
     "data": {
      "text/html": [
       "<div>\n",
       "<style>\n",
       "    .dataframe thead tr:only-child th {\n",
       "        text-align: right;\n",
       "    }\n",
       "\n",
       "    .dataframe thead th {\n",
       "        text-align: left;\n",
       "    }\n",
       "\n",
       "    .dataframe tbody tr th {\n",
       "        vertical-align: top;\n",
       "    }\n",
       "</style>\n",
       "<table border=\"1\" class=\"dataframe\">\n",
       "  <thead>\n",
       "    <tr style=\"text-align: right;\">\n",
       "      <th></th>\n",
       "      <th>feature_0</th>\n",
       "      <th>feature_1</th>\n",
       "      <th>feature_2</th>\n",
       "      <th>feature_3</th>\n",
       "      <th>feature_4</th>\n",
       "      <th>feature_5</th>\n",
       "      <th>feature_6</th>\n",
       "      <th>feature_7</th>\n",
       "      <th>feature_8</th>\n",
       "      <th>feature_9</th>\n",
       "      <th>...</th>\n",
       "      <th>feature_993</th>\n",
       "      <th>feature_994</th>\n",
       "      <th>feature_995</th>\n",
       "      <th>feature_996</th>\n",
       "      <th>feature_997</th>\n",
       "      <th>feature_998</th>\n",
       "      <th>feature_999</th>\n",
       "      <th>band_mixed</th>\n",
       "      <th>inc_angle</th>\n",
       "      <th>is_iceberg</th>\n",
       "    </tr>\n",
       "  </thead>\n",
       "  <tbody>\n",
       "    <tr>\n",
       "      <th>0</th>\n",
       "      <td>-1.451228</td>\n",
       "      <td>-0.317730</td>\n",
       "      <td>-2.170123</td>\n",
       "      <td>-2.101581</td>\n",
       "      <td>-2.230748</td>\n",
       "      <td>-0.902355</td>\n",
       "      <td>-2.193802</td>\n",
       "      <td>-0.303735</td>\n",
       "      <td>-1.164198</td>\n",
       "      <td>0.160444</td>\n",
       "      <td>...</td>\n",
       "      <td>-2.357673</td>\n",
       "      <td>-2.341510</td>\n",
       "      <td>-1.561263</td>\n",
       "      <td>-0.394525</td>\n",
       "      <td>-2.243487</td>\n",
       "      <td>-0.007089</td>\n",
       "      <td>0.887701</td>\n",
       "      <td>[[[55, 60, 48], [56, 57, 48], [53, 54, 48], [5...</td>\n",
       "      <td>43.9239</td>\n",
       "      <td>0</td>\n",
       "    </tr>\n",
       "    <tr>\n",
       "      <th>1</th>\n",
       "      <td>-1.970922</td>\n",
       "      <td>-1.172194</td>\n",
       "      <td>-2.123445</td>\n",
       "      <td>-2.111298</td>\n",
       "      <td>-2.219433</td>\n",
       "      <td>-1.432225</td>\n",
       "      <td>-2.025367</td>\n",
       "      <td>0.063773</td>\n",
       "      <td>-0.649373</td>\n",
       "      <td>0.793773</td>\n",
       "      <td>...</td>\n",
       "      <td>-2.579688</td>\n",
       "      <td>-2.712802</td>\n",
       "      <td>-2.148915</td>\n",
       "      <td>-0.578295</td>\n",
       "      <td>-2.536453</td>\n",
       "      <td>-0.882169</td>\n",
       "      <td>1.513233</td>\n",
       "      <td>[[[102, 58, 48], [97, 66, 48], [97, 68, 48], [...</td>\n",
       "      <td>38.1562</td>\n",
       "      <td>0</td>\n",
       "    </tr>\n",
       "    <tr>\n",
       "      <th>2</th>\n",
       "      <td>-1.948284</td>\n",
       "      <td>-0.828851</td>\n",
       "      <td>-2.084926</td>\n",
       "      <td>-2.310899</td>\n",
       "      <td>-2.167597</td>\n",
       "      <td>-1.176503</td>\n",
       "      <td>-2.191512</td>\n",
       "      <td>0.060499</td>\n",
       "      <td>-0.920658</td>\n",
       "      <td>0.508361</td>\n",
       "      <td>...</td>\n",
       "      <td>-2.686657</td>\n",
       "      <td>-2.875983</td>\n",
       "      <td>-2.089017</td>\n",
       "      <td>-0.814593</td>\n",
       "      <td>-2.641712</td>\n",
       "      <td>-0.352942</td>\n",
       "      <td>1.174775</td>\n",
       "      <td>[[[68, 72, 48], [68, 73, 48], [67, 77, 48], [7...</td>\n",
       "      <td>45.2859</td>\n",
       "      <td>1</td>\n",
       "    </tr>\n",
       "  </tbody>\n",
       "</table>\n",
       "<p>3 rows × 1003 columns</p>\n",
       "</div>"
      ],
      "text/plain": [
       "   feature_0  feature_1  feature_2  feature_3  feature_4  feature_5  \\\n",
       "0  -1.451228  -0.317730  -2.170123  -2.101581  -2.230748  -0.902355   \n",
       "1  -1.970922  -1.172194  -2.123445  -2.111298  -2.219433  -1.432225   \n",
       "2  -1.948284  -0.828851  -2.084926  -2.310899  -2.167597  -1.176503   \n",
       "\n",
       "   feature_6  feature_7  feature_8  feature_9     ...      feature_993  \\\n",
       "0  -2.193802  -0.303735  -1.164198   0.160444     ...        -2.357673   \n",
       "1  -2.025367   0.063773  -0.649373   0.793773     ...        -2.579688   \n",
       "2  -2.191512   0.060499  -0.920658   0.508361     ...        -2.686657   \n",
       "\n",
       "   feature_994  feature_995  feature_996  feature_997  feature_998  \\\n",
       "0    -2.341510    -1.561263    -0.394525    -2.243487    -0.007089   \n",
       "1    -2.712802    -2.148915    -0.578295    -2.536453    -0.882169   \n",
       "2    -2.875983    -2.089017    -0.814593    -2.641712    -0.352942   \n",
       "\n",
       "   feature_999                                         band_mixed  inc_angle  \\\n",
       "0     0.887701  [[[55, 60, 48], [56, 57, 48], [53, 54, 48], [5...    43.9239   \n",
       "1     1.513233  [[[102, 58, 48], [97, 66, 48], [97, 68, 48], [...    38.1562   \n",
       "2     1.174775  [[[68, 72, 48], [68, 73, 48], [67, 77, 48], [7...    45.2859   \n",
       "\n",
       "   is_iceberg  \n",
       "0           0  \n",
       "1           0  \n",
       "2           1  \n",
       "\n",
       "[3 rows x 1003 columns]"
      ]
     },
     "execution_count": 6,
     "metadata": {},
     "output_type": "execute_result"
    }
   ],
   "source": [
    "print(combined_train.shape)\n",
    "combined_train.head(3)"
   ]
  },
  {
   "cell_type": "code",
   "execution_count": 7,
   "metadata": {
    "collapsed": true
   },
   "outputs": [],
   "source": [
    "combined_train.to_json('Data/combined_training.json')\n",
    "del combined_train, train, transfer_train"
   ]
  },
  {
   "cell_type": "code",
   "execution_count": 8,
   "metadata": {
    "collapsed": true
   },
   "outputs": [],
   "source": [
    "test = pd.read_json('Data/denoised_processed_test.json')\n",
    "transfer_test = pd.read_csv('Data/transfer_learning_from_ResNet5_test.csv')\n",
    "combined_test = pd.concat([transfer_test.drop(['is_iceberg'],axis=1), test], axis=1)\n",
    "combined_test.to_json('Data/combined_test.json')\n",
    "del combined_test, test, transfer_test"
   ]
  }
 ],
 "metadata": {
  "kernelspec": {
   "display_name": "Python 3",
   "language": "python",
   "name": "python3"
  },
  "language_info": {
   "codemirror_mode": {
    "name": "ipython",
    "version": 3
   },
   "file_extension": ".py",
   "mimetype": "text/x-python",
   "name": "python",
   "nbconvert_exporter": "python",
   "pygments_lexer": "ipython3",
   "version": "3.6.2"
  }
 },
 "nbformat": 4,
 "nbformat_minor": 2
}
